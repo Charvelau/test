{
 "cells": [
  {
   "cell_type": "markdown",
   "metadata": {},
   "source": [
    "# Gait generation\n",
    "\n",
    "The state and control vectors $\\textbf{x}$ and $\\textbf{u}$ are defined as follows:\n",
    "\n",
    "$$\n",
    "\\begin{equation*}\n",
    "\\textbf{X} = \\begin{bmatrix}\n",
    "    x & y & z & \\dot{x} &\\dot{y} &\\dot{z} \n",
    "    \\end{bmatrix}^T\n",
    "\\end{equation*}\n",
    "$$\n",
    "\n",
    "$$\n",
    "\\begin{equation*}\n",
    "    \\textbf{u} = \\begin{bmatrix}\n",
    "    x_z & y_z & F_z\n",
    "    \\end{bmatrix}^T\n",
    "\\end{equation*}\n",
    "$$\n",
    "\n",
    "\n",
    "The dynamic equation for the system will be \n",
    "\n",
    "$$\n",
    "\\begin{equation*}\n",
    "    \\begin{bmatrix}\n",
    "    \\dot{X}  \n",
    "    \\end{bmatrix} \n",
    "    =\n",
    "    \\begin{bmatrix}\n",
    "    \\dot{x} \\\\ \n",
    "    \\dot{y} \\\\ \n",
    "    \\dot{z} \\\\ \n",
    "    \\frac{(x-x_z)F_z}{mz} \\\\ \n",
    "    \\frac{(y-y_z)F_z}{mz} \\\\ \n",
    "    \\frac{F_z}{m}-g\n",
    "    \\end{bmatrix}\n",
    "\\end{equation*}\n",
    "$$\n",
    "\n",
    "\n",
    "where $\\textbf{m}$ and $\\textbf{g}$ are mass and the acceleration of gravity. In the following case, I will set $\\textbf{m}$ to be 1.\n",
    "\n",
    "\n",
    "\n",
    "\n"
   ]
  },
  {
   "cell_type": "code",
   "execution_count": 1,
   "metadata": {
    "collapsed": true
   },
   "outputs": [],
   "source": [
    "%matplotlib inline"
   ]
  },
  {
   "cell_type": "code",
   "execution_count": 2,
   "metadata": {
    "collapsed": true
   },
   "outputs": [],
   "source": [
    "from __future__ import print_function"
   ]
  },
  {
   "cell_type": "code",
   "execution_count": 4,
   "metadata": {
    "collapsed": true
   },
   "outputs": [],
   "source": [
    "import numpy as np\n",
    "import theano.tensor as T\n",
    "import matplotlib.pyplot as plt"
   ]
  },
  {
   "cell_type": "code",
   "execution_count": 5,
   "metadata": {
    "collapsed": true
   },
   "outputs": [],
   "source": [
    "from ilqr import iLQR\n",
    "from ilqr.cost import PathQRCost\n",
    "from ilqr.dynamics import AutoDiffDynamics"
   ]
  },
  {
   "cell_type": "code",
   "execution_count": 6,
   "metadata": {
    "collapsed": true
   },
   "outputs": [],
   "source": [
    "def on_iteration(iteration_count, xs, us, J_opt, accepted, converged):\n",
    "    J_hist.append(J_opt)\n",
    "    info = \"converged\" if converged else (\"accepted\" if accepted else \"failed\")\n",
    "    print(\"iteration\", iteration_count, info, J_opt)"
   ]
  },
  {
   "cell_type": "code",
   "execution_count": 7,
   "metadata": {
    "collapsed": true
   },
   "outputs": [],
   "source": [
    "x_inputs = [\n",
    "    T.dscalar(\"x\"),\n",
    "    T.dscalar(\"y\"),\n",
    "    T.dscalar(\"z\"),\n",
    "    T.dscalar(\"x_dot\"),\n",
    "    T.dscalar(\"y_dot\"),\n",
    "    T.dscalar(\"z_dot\"),\n",
    "]\n",
    "\n",
    "u_inputs = [\n",
    "    T.dscalar(\"x_zmp\"),\n",
    "    T.dscalar(\"y_zmp\"),\n",
    "    T.dscalar(\"F_z\"),\n",
    "]\n",
    "\n",
    "\n",
    "\n",
    "dt = 0.01  # Discrete time step.\n",
    "g = 9.81  # g.\n",
    "\n",
    "'''\n",
    "# nonlinear dynamics.\n",
    "def nonldyn(x_inputs, u_inputs):\n",
    "    x_inputs_dot[0]=x_inputs[3],\n",
    "    x_inputs_dot[1]=x_inputs[4],\n",
    "    x_inputs_dot[2]=x_inputs[5],\n",
    "    x_inputs_dot[3]=(x_inputs[0]-u[0])*u[2]/x_inputs[2],\n",
    "    x_inputs_dot[4]=(x_inputs[1]-u[1])*u[2]/x_inputs[2],\n",
    "    x_inputs_dot[5]=u[2]-g,\n",
    "    return x_inputs_dot\n",
    "\n",
    "# discritize with RK4\n",
    "x_inputs_dot1=nonldyn(x_inputs,u_inputs)\n",
    "x_inputs_dot2=nonldyn(x_inputs+.5*dt*x_inputs_dot1,u_inputs)\n",
    "x_inputs_dot3=nonldyn(x_inputs+.5*dt*x_inputs_dot2,u_inputs)\n",
    "x_inputs_dot4=nonldyn(x_inputs+dt*x_inputs_dot3,u_inputs)\n",
    "\n",
    "f = x_inputs+(dt/6)*(x_input_dot1+2*x_input_dot2+2*x_input_dot3+x_input_dot4)\n",
    "'''\n",
    "\n",
    "\n",
    "# Discrete dynamics model definition.\n",
    "f = T.stack([\n",
    "    x_inputs[0] + x_inputs[3] * dt,\n",
    "    x_inputs[1] + x_inputs[4] * dt,\n",
    "    x_inputs[2] + x_inputs[5] * dt,\n",
    "    x_inputs[3] + (x_inputs[0]-u_inputs[0])*u_inputs[2]/x_inputs[2] * dt,\n",
    "    x_inputs[4] + (x_inputs[1]-u_inputs[1])*u_inputs[2]/x_inputs[2] * dt,\n",
    "    x_inputs[5] + (u_inputs[2]-g) * dt,\n",
    "])\n",
    "\n",
    "\n",
    "dynamics = AutoDiffDynamics(f, x_inputs, u_inputs)"
   ]
  },
  {
   "cell_type": "code",
   "execution_count": 8,
   "metadata": {
    "collapsed": true
   },
   "outputs": [],
   "source": [
    "T = 100\n",
    "state_size = 6\n",
    "action_size = 3\n",
    "\n",
    "Q = np.eye(state_size)\n",
    "R = np.eye(action_size)\n",
    "\n",
    "x_path = np.zeros((T+1, state_size))\n",
    "u_path = np.zeros((T, action_size))\n",
    "\n",
    "\n",
    "cost = PathQRCost(Q, R, x_path, u_path=u_path)\n"
   ]
  },
  {
   "cell_type": "code",
   "execution_count": 11,
   "metadata": {
    "collapsed": true
   },
   "outputs": [],
   "source": [
    "N = 200  # Number of time steps in trajectory.\n",
    "x0 = np.array([0, 0, 0, 0, 0, 0])  # Initial state.\n",
    "\n",
    "# Random initial action path.\n",
    "us_init = np.random.uniform(-1, 1, (N, dynamics.action_size))"
   ]
  },
  {
   "cell_type": "code",
   "execution_count": 12,
   "metadata": {
    "scrolled": false
   },
   "outputs": [
    {
     "name": "stdout",
     "output_type": "stream",
     "text": [
      "iteration 0 failed nan\n",
      "iteration 1 failed nan\n",
      "iteration 2 failed nan\n",
      "iteration 3 failed nan\n",
      "iteration 4 failed nan\n",
      "iteration 5 failed nan\n"
     ]
    },
    {
     "name": "stderr",
     "output_type": "stream",
     "text": [
      "C:\\SciSoft\\Anaconda2\\lib\\site-packages\\ilqr-0.1.0-py2.7.egg\\ilqr\\controller.py:134: UserWarning: SVD did not converge\n",
      "C:\\SciSoft\\Anaconda2\\lib\\site-packages\\ilqr-0.1.0-py2.7.egg\\ilqr\\controller.py:141: UserWarning: exceeded max regularization term\n"
     ]
    },
    {
     "ename": "UnboundLocalError",
     "evalue": "local variable 'k' referenced before assignment",
     "output_type": "error",
     "traceback": [
      "\u001b[1;31m---------------------------------------------------------------------------\u001b[0m",
      "\u001b[1;31mUnboundLocalError\u001b[0m                         Traceback (most recent call last)",
      "\u001b[1;32m<ipython-input-12-da0fe55a22f0>\u001b[0m in \u001b[0;36m<module>\u001b[1;34m()\u001b[0m\n\u001b[0;32m      1\u001b[0m \u001b[0mJ_hist\u001b[0m \u001b[1;33m=\u001b[0m \u001b[1;33m[\u001b[0m\u001b[1;33m]\u001b[0m\u001b[1;33m\u001b[0m\u001b[0m\n\u001b[0;32m      2\u001b[0m \u001b[0milqr\u001b[0m \u001b[1;33m=\u001b[0m \u001b[0miLQR\u001b[0m\u001b[1;33m(\u001b[0m\u001b[0mdynamics\u001b[0m\u001b[1;33m,\u001b[0m \u001b[0mcost\u001b[0m\u001b[1;33m,\u001b[0m \u001b[0mN\u001b[0m\u001b[1;33m)\u001b[0m\u001b[1;33m\u001b[0m\u001b[0m\n\u001b[1;32m----> 3\u001b[1;33m \u001b[0mxs\u001b[0m\u001b[1;33m,\u001b[0m \u001b[0mus\u001b[0m \u001b[1;33m=\u001b[0m \u001b[0milqr\u001b[0m\u001b[1;33m.\u001b[0m\u001b[0mfit\u001b[0m\u001b[1;33m(\u001b[0m\u001b[0mx0\u001b[0m\u001b[1;33m,\u001b[0m \u001b[0mus_init\u001b[0m\u001b[1;33m,\u001b[0m \u001b[0mon_iteration\u001b[0m\u001b[1;33m=\u001b[0m\u001b[0mon_iteration\u001b[0m\u001b[1;33m)\u001b[0m\u001b[1;33m\u001b[0m\u001b[0m\n\u001b[0m",
      "\u001b[1;32mC:\\SciSoft\\Anaconda2\\lib\\site-packages\\ilqr-0.1.0-py2.7.egg\\ilqr\\controller.pyc\u001b[0m in \u001b[0;36mfit\u001b[1;34m(self, x0, us_init, n_iterations, tol, on_iteration)\u001b[0m\n\u001b[0;32m    149\u001b[0m \u001b[1;33m\u001b[0m\u001b[0m\n\u001b[0;32m    150\u001b[0m         \u001b[1;31m# Store fit parameters.\u001b[0m\u001b[1;33m\u001b[0m\u001b[1;33m\u001b[0m\u001b[0m\n\u001b[1;32m--> 151\u001b[1;33m         \u001b[0mself\u001b[0m\u001b[1;33m.\u001b[0m\u001b[0m_k\u001b[0m \u001b[1;33m=\u001b[0m \u001b[0mk\u001b[0m\u001b[1;33m\u001b[0m\u001b[0m\n\u001b[0m\u001b[0;32m    152\u001b[0m         \u001b[0mself\u001b[0m\u001b[1;33m.\u001b[0m\u001b[0m_K\u001b[0m \u001b[1;33m=\u001b[0m \u001b[0mK\u001b[0m\u001b[1;33m\u001b[0m\u001b[0m\n\u001b[0;32m    153\u001b[0m         \u001b[0mself\u001b[0m\u001b[1;33m.\u001b[0m\u001b[0m_nominal_xs\u001b[0m \u001b[1;33m=\u001b[0m \u001b[0mxs\u001b[0m\u001b[1;33m\u001b[0m\u001b[0m\n",
      "\u001b[1;31mUnboundLocalError\u001b[0m: local variable 'k' referenced before assignment"
     ]
    }
   ],
   "source": [
    "J_hist = []\n",
    "ilqr = iLQR(dynamics, cost, N)\n",
    "xs, us = ilqr.fit(x0, us_init, on_iteration=on_iteration)"
   ]
  },
  {
   "cell_type": "code",
   "execution_count": null,
   "metadata": {
    "collapsed": true
   },
   "outputs": [],
   "source": []
  }
 ],
 "metadata": {
  "kernelspec": {
   "display_name": "Python 2",
   "language": "python",
   "name": "python2"
  },
  "language_info": {
   "codemirror_mode": {
    "name": "ipython",
    "version": 2
   },
   "file_extension": ".py",
   "mimetype": "text/x-python",
   "name": "python",
   "nbconvert_exporter": "python",
   "pygments_lexer": "ipython2",
   "version": "2.7.14"
  }
 },
 "nbformat": 4,
 "nbformat_minor": 2
}
